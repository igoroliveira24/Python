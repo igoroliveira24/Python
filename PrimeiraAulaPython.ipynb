{
  "nbformat": 4,
  "nbformat_minor": 0,
  "metadata": {
    "colab": {
      "provenance": [],
      "authorship_tag": "ABX9TyNtqHT7FucVeYRVv8+ZtTnm",
      "include_colab_link": true
    },
    "kernelspec": {
      "name": "python3",
      "display_name": "Python 3"
    },
    "language_info": {
      "name": "python"
    }
  },
  "cells": [
    {
      "cell_type": "markdown",
      "metadata": {
        "id": "view-in-github",
        "colab_type": "text"
      },
      "source": [
        "<a href=\"https://colab.research.google.com/github/igoroliveira24/Python/blob/main/PrimeiraAulaPython.ipynb\" target=\"_parent\"><img src=\"https://colab.research.google.com/assets/colab-badge.svg\" alt=\"Open In Colab\"/></a>"
      ]
    },
    {
      "cell_type": "code",
      "execution_count": null,
      "metadata": {
        "colab": {
          "base_uri": "https://localhost:8080/"
        },
        "id": "Fi0HpJafW4tu",
        "outputId": "a1928d64-87a5-466e-b4a0-db423d4cc6f4"
      },
      "outputs": [
        {
          "output_type": "stream",
          "name": "stdout",
          "text": [
            "Digite o lado do quadrado 5\n",
            "25\n"
          ]
        }
      ],
      "source": [
        "LQD = int(input(\"Digite o lado do quadrado \"));\n",
        "AQD = LQD * LQD;\n",
        "print(AQD);\n"
      ]
    },
    {
      "cell_type": "code",
      "source": [
        "SLR = int(input(\"Digite o salario do funcionario \"));\n",
        "RJT = SLR * 1.15;\n",
        "print(RJT);"
      ],
      "metadata": {
        "colab": {
          "base_uri": "https://localhost:8080/"
        },
        "id": "skrsIB9zZvX7",
        "outputId": "fc3ddddf-cbf1-44f6-92f9-4ae9f4860807"
      },
      "execution_count": null,
      "outputs": [
        {
          "output_type": "stream",
          "name": "stdout",
          "text": [
            "Digite o salario do funcionario 1000\n",
            "1150.0\n"
          ]
        }
      ]
    },
    {
      "cell_type": "code",
      "source": [
        "LTG = int(input(\"Digite o lado do triangulo \"));\n",
        "BTG = int(input(\"Digite a base do triangulo \"));\n",
        "ATG = ((LTG * BTG)/2);\n",
        "print(ATG);"
      ],
      "metadata": {
        "colab": {
          "base_uri": "https://localhost:8080/"
        },
        "id": "huy0Pi1eaCSi",
        "outputId": "7c4c6b5a-7835-4ffb-ee5c-b0c4f39d0109"
      },
      "execution_count": null,
      "outputs": [
        {
          "output_type": "stream",
          "name": "stdout",
          "text": [
            "Digite o lado do triangulo 5\n",
            "Digite a base do triangulo 5\n",
            "12.5\n"
          ]
        }
      ]
    },
    {
      "cell_type": "code",
      "source": [
        "C = int(input(\"Digite a temperatura em graus celcius \"));\n",
        "F = ((C * 1.8) + 32);\n",
        "print(F);"
      ],
      "metadata": {
        "colab": {
          "base_uri": "https://localhost:8080/"
        },
        "id": "0UzhGJgWaXf3",
        "outputId": "dc33716a-d652-4e2c-a597-d981095b7ab4"
      },
      "execution_count": null,
      "outputs": [
        {
          "output_type": "stream",
          "name": "stdout",
          "text": [
            "Digite a temperatura em graus celcius10\n",
            "50.0\n"
          ]
        }
      ]
    },
    {
      "cell_type": "code",
      "source": [
        "A = int(input(\"Digite o valor de A \"));\n",
        "B = int(input(\"Digite o valor de B \"));\n",
        "C= int(input(\"Digite o valor de C \"));\n",
        "X = ((B * B) - 4 * A * C);\n",
        "if X < 0:\n",
        "\tprint(\"Nenhuma raiz real\");\n",
        "else:\n",
        "\tif X == 0:\n",
        "\t\tRZ1 = (-B / (2 * A));\n",
        "\t\tprint(RZ1);\n",
        "\telse:\n",
        "\t\tRZ1 = ((-B + X)/ (2 * A));\n",
        "\t\tRZ2 = ((-B - X)/ (2 * A));\n",
        "\t\tprint(RZ1,\" e \",RZ2);"
      ],
      "metadata": {
        "colab": {
          "base_uri": "https://localhost:8080/"
        },
        "id": "0m4lixjqaxWK",
        "outputId": "b9d0da49-12fd-41ca-e6b7-bf114bed317b"
      },
      "execution_count": null,
      "outputs": [
        {
          "output_type": "stream",
          "name": "stdout",
          "text": [
            "Digite o valor de A 1\n",
            "Digite o valor de B -4\n",
            "Digite o valor de C 2\n",
            "6.0  e  -2.0\n"
          ]
        }
      ]
    },
    {
      "cell_type": "code",
      "source": [
        "Y = float(input(\"Digite um valor \"))\n",
        "X = float(input(\"Digite outro valor \"))\n",
        "Soma = X + Y;\n",
        "Y = Soma - Y;\n",
        "X = Soma - Y;\n",
        "print(\"Seu primeiro valor se tornou\", Y,\"e seu segundo valor\",X);"
      ],
      "metadata": {
        "colab": {
          "base_uri": "https://localhost:8080/"
        },
        "id": "finoh6reyuYH",
        "outputId": "ce2965d8-b5ca-401d-be71-7666ba375aee"
      },
      "execution_count": null,
      "outputs": [
        {
          "output_type": "stream",
          "name": "stdout",
          "text": [
            "Digite um valor 12.412312\n",
            "Digite outro valor 234.1123123\n",
            "Seu primeiro valor se tornou 234.11231230000004 e seu segundo valor 12.412311999999986\n"
          ]
        }
      ]
    },
    {
      "cell_type": "code",
      "source": [
        "A = int(input(\"Digite um valor inteiros para a altura do paralelepipedo \"))\n",
        "B = int(input(\"Digite um valor inteiros para a base do paralelepipedo \"))\n",
        "C = int(input(\"Digite um valor inteiros para a largura do paralelepipedo \"))\n",
        "V = A * B * C;\n",
        "print(V);"
      ],
      "metadata": {
        "colab": {
          "base_uri": "https://localhost:8080/"
        },
        "id": "p4308PZjzk2A",
        "outputId": "7dfc2cf1-fcc8-401a-84ac-75483f7032cf"
      },
      "execution_count": null,
      "outputs": [
        {
          "output_type": "stream",
          "name": "stdout",
          "text": [
            "Digite um valor inteiros para a altura do paralelepipedo 10\n",
            "Digite um valor inteiros para a base do paralelepipedo 24\n",
            "Digite um valor inteiros para a largura do paralelepipedo12\n",
            "2880\n"
          ]
        }
      ]
    },
    {
      "cell_type": "code",
      "source": [
        "Deposito = float(input(\"Digite o valor da aplicação que sera feita \"));\n",
        "TM = int(input(\"DIgite o tempo em minutos que deseja deixar o deposito \"));\n",
        "VM = (Deposito *(1 +(0.013 * TM)));\n",
        "print(VM);"
      ],
      "metadata": {
        "colab": {
          "base_uri": "https://localhost:8080/"
        },
        "id": "8b3PxZWh0E7c",
        "outputId": "18b940ef-3120-442d-a1bc-ea7bad52cc32"
      },
      "execution_count": null,
      "outputs": [
        {
          "output_type": "stream",
          "name": "stdout",
          "text": [
            "Digite o valor da aplicação que sera feita 5000\n",
            "DIgite o tempo em minutos que deseja deixar o deposito 24\n",
            "6560.0\n"
          ]
        }
      ]
    },
    {
      "cell_type": "code",
      "source": [
        "X = int(input(\"Digite um valor inteiro \"));\n",
        "Y = int(input(\"Digite outro valor inteiro \"));\n",
        "if X > Y:\n",
        "  Dif = X - Y;\n",
        "else:\n",
        "  Dif = Y - X;\n",
        "print(Dif);"
      ],
      "metadata": {
        "colab": {
          "base_uri": "https://localhost:8080/"
        },
        "id": "QzkmUj8U0JLM",
        "outputId": "306da9da-1c7d-46bd-e074-59980ea6e972"
      },
      "execution_count": null,
      "outputs": [
        {
          "output_type": "stream",
          "name": "stdout",
          "text": [
            "DIgite um valor inteiro 13\n",
            "DIgite outro valor inteiro 24\n",
            "11\n"
          ]
        }
      ]
    },
    {
      "cell_type": "markdown",
      "source": [],
      "metadata": {
        "id": "jcr9PujB1qQt"
      }
    },
    {
      "cell_type": "code",
      "source": [
        "X = float(input(\"Digite um valor inteiro \"));\n",
        "Y = float(input(\"Digite outro valor inteiro \"));\n",
        "if X > Y:\n",
        "  Dif = X - Y;\n",
        "else:\n",
        "  Dif = Y - X;\n",
        "print(Dif);"
      ],
      "metadata": {
        "id": "WSk0QaLH1kPb"
      },
      "execution_count": null,
      "outputs": []
    },
    {
      "cell_type": "code",
      "source": [
        "R = float(input(\"Digite o raio de uma circunferencia \"));\n",
        "C = ((2 * 3.14) * R);\n",
        "print(C);"
      ],
      "metadata": {
        "colab": {
          "base_uri": "https://localhost:8080/"
        },
        "id": "B63leJcb19LH",
        "outputId": "693e8967-d856-45bf-938b-5f1f033c25c2"
      },
      "execution_count": null,
      "outputs": [
        {
          "output_type": "stream",
          "name": "stdout",
          "text": [
            "Digite o raio de uma circunferencia 9\n",
            "56.52\n"
          ]
        }
      ]
    },
    {
      "cell_type": "code",
      "source": [
        "AN = int(input(\"Digite o ano em que nasceu \"));\n",
        "AA = int(input(\"Digite o ano em que atual \"));\n",
        "if(AN >= AA):\n",
        "  print(\"Digite sua o ano corretamente\")\n",
        "else:\n",
        "  ID = AA - AN;\n",
        "  print(\"Sua idade é\", ID, \"daqui 17 anos terá \",(ID + 17));"
      ],
      "metadata": {
        "colab": {
          "base_uri": "https://localhost:8080/"
        },
        "id": "CfZ9R60p2bJ0",
        "outputId": "fd84a536-a71a-40d6-b876-de6a7c84827d"
      },
      "execution_count": null,
      "outputs": [
        {
          "output_type": "stream",
          "name": "stdout",
          "text": [
            "Digite o ano em que nasceu 22222222222\n",
            "Digite o ano em que atual 2\n",
            "Digite sua o ano corretamente\n"
          ]
        }
      ]
    },
    {
      "cell_type": "code",
      "source": [
        "QA = float(input(\"DIgite o peso do alimento em quilos \"));\n",
        "D = ((QA * 1000)/50)\n",
        "print(D);"
      ],
      "metadata": {
        "colab": {
          "base_uri": "https://localhost:8080/"
        },
        "id": "XIyc7Ur-3d4v",
        "outputId": "208aa09c-88ba-4eee-fa5f-75ca7eaea0fa"
      },
      "execution_count": null,
      "outputs": [
        {
          "output_type": "stream",
          "name": "stdout",
          "text": [
            "DIgite o peso do alimento em quilos 10\n",
            "200.0\n"
          ]
        }
      ]
    },
    {
      "cell_type": "code",
      "source": [
        "ANG1 = int(input(\"Digite um angulo do triangulo \"));\n",
        "ANG2 = int(input(\"Digite outro angulo do triangulo \"));\n",
        "if(ANG1 + ANG2 > 180):\n",
        "  ANG3 = (\"Os angulos nao formam um triangulo\");\n",
        "else:\n",
        "  ANG3 = 180 - (ANG1 + ANG2)\n",
        "print(ANG3);"
      ],
      "metadata": {
        "colab": {
          "base_uri": "https://localhost:8080/"
        },
        "id": "upAMDMhT4318",
        "outputId": "64e7999f-e754-460d-9b77-db5b1b7e03a4"
      },
      "execution_count": null,
      "outputs": [
        {
          "output_type": "stream",
          "name": "stdout",
          "text": [
            "Digite um angulo do triangulo 90\n",
            "Digite outro angulo do triangulo 89\n",
            "1\n"
          ]
        }
      ]
    },
    {
      "cell_type": "code",
      "source": [
        "CTT1 = float(input(\"Digite o valor de um dos catetos do triangulo \"));\n",
        "CTT2 = float(input(\"Digite o valor do outro cateto do triangulo \"));\n",
        "HPT = CTT1**2 + CTT2**2\n",
        "HPT = HPT**0.5\n",
        "print(HPT);"
      ],
      "metadata": {
        "colab": {
          "base_uri": "https://localhost:8080/"
        },
        "id": "bhjmlRid5KTe",
        "outputId": "ac392e15-0dcd-4583-8eaa-da8a88a8ccef"
      },
      "execution_count": null,
      "outputs": [
        {
          "output_type": "stream",
          "name": "stdout",
          "text": [
            "Digite o valor de um dos catetos do triangulo 2\n",
            "Digite o valor do outro cateto do triangulo 5\n",
            "5.385164807134504\n"
          ]
        }
      ]
    },
    {
      "cell_type": "code",
      "source": [
        "HT = int(input(\"Digite as horas trabalhadas \"));\n",
        "VPH = float(input(\"Digite o valor por hora trabalhada \"));\n",
        "PD = int(input(\"Digite a porcentagem de desconto (se não houver digite 0) \"));\n",
        "ND = int(input(\"Digite o numero de dependentes \"));\n",
        "SR = HT * VPH;\n",
        "SR = SR * (1 - (PD / 100));\n",
        "SR = SR + (ND * 100)\n",
        "print(SR);"
      ],
      "metadata": {
        "colab": {
          "base_uri": "https://localhost:8080/"
        },
        "id": "dNbjHVHR6kN1",
        "outputId": "2a4eed41-fd8b-4ac5-b8ab-f9d6ac016b4d"
      },
      "execution_count": null,
      "outputs": [
        {
          "output_type": "stream",
          "name": "stdout",
          "text": [
            "Digite as horas trabalhadas 1200\n",
            "Digite o valor por hora trabalhada 250\n",
            "Digite a porcentagem de desconto (se não houver digite 0) 0\n",
            "Digite o numero de dependentes 0\n",
            "300000.0\n"
          ]
        }
      ]
    },
    {
      "cell_type": "code",
      "source": [
        "TP = int(input(\"Digite o tempo do percurso em horas \"));\n",
        "VM = int(input(\"Digite a velocidade media \"));\n",
        "LG = (TP * VM)/ 12\n",
        "print(LG);"
      ],
      "metadata": {
        "colab": {
          "base_uri": "https://localhost:8080/"
        },
        "id": "VJNpCoav74Hr",
        "outputId": "2713cdf8-70ae-4a1d-9901-2cae4f0b6f00"
      },
      "execution_count": null,
      "outputs": [
        {
          "output_type": "stream",
          "name": "stdout",
          "text": [
            "Digite o tempo do percurso em horas 2\n",
            "Digite a velocidade media 50\n",
            "8.333333333333334\n"
          ]
        }
      ]
    },
    {
      "cell_type": "code",
      "source": [
        "X = float(input(\"Digite um valor inteiro \"));\n",
        "Y = float(input(\"Digite outro valor inteiro \"));\n",
        "if X > Y:\n",
        "  Dif = X - Y;\n",
        "else:\n",
        "  Dif = Y - X;\n",
        "print(Dif);"
      ],
      "metadata": {
        "id": "GUTQ_ui58qUD"
      },
      "execution_count": null,
      "outputs": []
    },
    {
      "cell_type": "code",
      "source": [
        "A = int(input(\"Digite o valor de A \"));\n",
        "B = int(input(\"Digite o valor de B \"));\n",
        "C= int(input(\"Digite o valor de C \"));\n",
        "X = ((B * B) - 4 * A * C);\n",
        "if X < 0:\n",
        "\tprint(\"Nenhuma raiz real\");\n",
        "else:\n",
        "\tif X == 0:\n",
        "\t\tRZ1 = (-B / (2 * A));\n",
        "\t\tprint(RZ1);\n",
        "\telse:\n",
        "\t\tRZ1 = ((-B + X)/ (2 * A));\n",
        "\t\tRZ2 = ((-B - X)/ (2 * A));\n",
        "\t\tprint(RZ1,\" e \",RZ2);"
      ],
      "metadata": {
        "id": "uc6nXAZ8F_ct"
      },
      "execution_count": null,
      "outputs": []
    },
    {
      "cell_type": "code",
      "source": [
        "NT1 = int(input(\"Digite o primeira nota \"));\n",
        "NT2 = int(input(\"Digite o segunda nota \"));\n",
        "NT3 = int(input(\"Digite o terceira nota \"));\n",
        "NT4 = int(input(\"Digite o quarta nota \"));\n",
        "MDA = ((NT1 + NT2 + NT3 + NT4)/4)\n",
        "if(MDA >= 6,0):\n",
        "\tprint(\"APROVADO\");\n",
        "else:\n",
        "\tif(MDA >= 3,0):\n",
        "\t\tprint(\"EXAME\");\n",
        "\telse:\n",
        "\t\tprint(\"REPROVADO\");"
      ],
      "metadata": {
        "colab": {
          "base_uri": "https://localhost:8080/"
        },
        "id": "NrjLAR4CGF12",
        "outputId": "9bd6b487-7b31-4591-d451-88d48f9909e2"
      },
      "execution_count": null,
      "outputs": [
        {
          "output_type": "stream",
          "name": "stdout",
          "text": [
            "Digite o primeira nota 5\n",
            "Digite o segunda nota 8\n",
            "Digite o terceira nota 3\n",
            "Digite o quarta nota 5\n",
            "APROVADO\n"
          ]
        }
      ]
    },
    {
      "cell_type": "code",
      "source": [
        "NM1 = int(input(\"Digite o primeiro numero \"));\n",
        "NM2 = int(input(\"Digite o segundo numero \"));\n",
        "if(NM2 <= NM1):\n",
        "  print(NM1, NM2);\n",
        "else:\n",
        "  print(NM2, NM1);"
      ],
      "metadata": {
        "colab": {
          "base_uri": "https://localhost:8080/"
        },
        "id": "SFFlVBjRG2yo",
        "outputId": "c2686fa2-0834-4e70-a6ba-f1b9547ddd3c"
      },
      "execution_count": null,
      "outputs": [
        {
          "output_type": "stream",
          "name": "stdout",
          "text": [
            "Digite o primeiro numero 5\n",
            "Digite o segunfo numero 2\n",
            "5 2\n"
          ]
        }
      ]
    },
    {
      "cell_type": "code",
      "source": [
        "NM1 = int(input(\"Digite o primeiro numero \"));\n",
        "NM2 = int(input(\"Digite o segunfo numero \"));\n",
        "if(NM2 <= NM1):\n",
        "  print(\"Os tres primeiros numeros devem estar em ordem crescente\");\n",
        "else:\n",
        "  NM3 = int(input(\"Digite o terceiro numero \"));\n",
        "  if(NM3 <= NM2):\n",
        "    print(\"Os tres primeiros numeros devem estar em ordem crescente\");\n",
        "  else:\n",
        "    NM4 = int(input(\"Digite o quarto numero \"));\n",
        "    if (NM4 >= NM3):\n",
        "       print(NM1,\" , \",NM2,\" , \",NM3,\" , \",NM4);\n",
        "    elif (NM4 >= NM2):\n",
        "      print(NM1,\" , \",NM2,\" , \",NM4,\" , \",NM3)\n",
        "    elif (NM4 >= NM1):\n",
        "      print(NM1,\" , \",NM4,\" , \",NM2,\" , \",NM3)\n",
        "    else:\n",
        "\t    print(NM4,\" , \",NM1,\" , \",NM2,\" , \",NM3)"
      ],
      "metadata": {
        "colab": {
          "base_uri": "https://localhost:8080/"
        },
        "id": "FOSgQgUddBYv",
        "outputId": "5442b0d5-a7bb-4179-db6b-bf97e079c0b4"
      },
      "execution_count": null,
      "outputs": [
        {
          "output_type": "stream",
          "name": "stdout",
          "text": [
            "Digite o primeiro numero 10\n",
            "Digite o segunfo numero 20\n",
            "Digite o terceiro numero 15\n",
            "Os tres primeiros numeros devem estar em ordem crescente\n"
          ]
        }
      ]
    },
    {
      "cell_type": "code",
      "source": [
        "NM1 = int(input(\"Digite o primeiro numero \"));\n",
        "if ((NM1 % 2) == 0) or ((NM1 % 3) == 0):\n",
        "\tprint(\"Ele é divisivel ou por 2 ou por 3\");\n",
        "else:\n",
        "\tprint(\"Não é divisivel\");\n"
      ],
      "metadata": {
        "colab": {
          "base_uri": "https://localhost:8080/"
        },
        "id": "RBc1ZoHsHOZJ",
        "outputId": "cfbcdb67-37fe-42ff-dc6b-395f3826e65d"
      },
      "execution_count": null,
      "outputs": [
        {
          "output_type": "stream",
          "name": "stdout",
          "text": [
            "Digite o primeiro numero 1\n",
            "Não é divisivel\n"
          ]
        }
      ]
    },
    {
      "cell_type": "markdown",
      "source": [],
      "metadata": {
        "id": "Z76iswKtfoVf"
      }
    },
    {
      "cell_type": "markdown",
      "source": [],
      "metadata": {
        "id": "GpUXgFOqe5Fm"
      }
    },
    {
      "cell_type": "code",
      "source": [
        "HI = int(input(\"Digite a hora que a partida começou \"));\n",
        "MI= int(input(\"Digite com quantos minutos a partida começou \"));\n",
        "HF = int(input(\"Digite a hora que a partida terminou \"));\n",
        "MF = int(input(\"Digite com quantos minutos a partida terminou \"));\n",
        "MJ = MF - MI;\n",
        "if(0 <= MF <= 59) and (0 <= MI <= 59) and (0 <= HF <= 24) and (0 <= HI <= 24):\n",
        "\n",
        "  if(HF < HI):\n",
        "    HJ = (24 - HI) + HF;\n",
        "  else:\n",
        "    HJ = HF - HI;\n",
        "  print(\"O jogo durou \",HJ,\" horas e \",MJ,\" minutos\");\n",
        "\n",
        "else:\n",
        "  print(\"As horas ou os minutos estão incorretos\");\n"
      ],
      "metadata": {
        "colab": {
          "base_uri": "https://localhost:8080/"
        },
        "id": "fhI3qiszsCgH",
        "outputId": "eae8d86b-f0ec-4767-c461-47f3d79155d9"
      },
      "execution_count": null,
      "outputs": [
        {
          "output_type": "stream",
          "name": "stdout",
          "text": [
            "Digite a hora que a partida começou 12\n",
            "Digite com quantos minutos a partida começou 1\n",
            "Digite a hora que a partida terminou 1\n",
            "Digite com quantos minutos a partida terminou 34\n",
            "O jogo durou  13  horas e  33  minutos\n"
          ]
        }
      ]
    },
    {
      "cell_type": "code",
      "source": [
        "N1 = int(input(\"Digite o primeiro numero \"));\n",
        "N2 = int(input(\"Digite o segundo numero \"))\n",
        "if(N1 > N2):\n",
        "  maior = N1;\n",
        "  menor = N2;\n",
        "  RST = N1 % N2;\n",
        "else:\n",
        "\tmaior = N2;\n",
        "\tmenor = N1;\n",
        "\tRST = N2 % N1;\n",
        "if(RST == 0):\n",
        "  print(maior,\"é divisivel por\",menor);\n",
        "else:\n",
        "  print(maior,\"não é divisivel por\",menor);\n"
      ],
      "metadata": {
        "colab": {
          "base_uri": "https://localhost:8080/"
        },
        "id": "34KaW7MKIcnl",
        "outputId": "96e1fb44-f51c-46eb-e4a0-81fcc0dfc760"
      },
      "execution_count": null,
      "outputs": [
        {
          "output_type": "stream",
          "name": "stdout",
          "text": [
            "Digite o primeiro numero 12\n",
            "Digite o segundo numero 9\n",
            "12 não é divisivel pelo 9\n"
          ]
        }
      ]
    },
    {
      "cell_type": "code",
      "source": [
        "N1 = int(input(\"Digite o primeiro numero \"));\n",
        "N2 = int(input(\"Digite o segundo numero \"))\n",
        "if(N1 > N2):\n",
        "  maior = N1;\n",
        "  menor = N2;\n",
        "else:\n",
        "\tmaior = N2;\n",
        "\tmenor = N1;\n",
        "if maior % menor == 0:\n",
        "  print(maior,\"é divisivel por\",menor);\n",
        "else:\n",
        "  print(maior,\"não é divisivel por\",menor);"
      ],
      "metadata": {
        "colab": {
          "base_uri": "https://localhost:8080/"
        },
        "id": "L9Nru-yJfQ5X",
        "outputId": "ef1c74dc-17b1-4552-dbf1-d40cfb7dfdcf"
      },
      "execution_count": null,
      "outputs": [
        {
          "output_type": "stream",
          "name": "stdout",
          "text": [
            "Digite o primeiro numero 5\n",
            "Digite o segundo numero 10\n",
            "10 é divisivel por 5\n"
          ]
        }
      ]
    },
    {
      "cell_type": "code",
      "source": [
        "NV = int(input(\"Digite o numero de voltas\"));\n",
        "EC = int(input(\"Digite a extensão do circuito (em metros) \"));\n",
        "TD = float(input(\"Digite o tempo de duração (em minutos) \"));\n",
        "S = EC * NV;\n",
        "S = S / 1000;\n",
        "TD = TD / 60\n",
        "VM = S/TD;\n",
        "print(\"A velocidade media em kilometros por hora é\", VM);"
      ],
      "metadata": {
        "colab": {
          "base_uri": "https://localhost:8080/"
        },
        "id": "sbvXkGZ0LMTB",
        "outputId": "88bf98d6-433b-4556-c601-925a30a4583d"
      },
      "execution_count": null,
      "outputs": [
        {
          "output_type": "stream",
          "name": "stdout",
          "text": [
            "Digite o numero de voltas60\n",
            "Digite a extensão do circuito (em metros) 5780\n",
            "Digite o tempo de duração (em minutos) 123\n",
            "A velocidade media em kilometros por hora é 2.8195121951219515\n"
          ]
        }
      ]
    },
    {
      "cell_type": "code",
      "source": [
        "PAtual = float(input(\"Digite o preço atual do produto \"));\n",
        "MMensal = float(input(\"Digite a media mensal \"));\n",
        "if MMensal >= 500 and PAtual >=30 :\n",
        "  if MMensal >= 1000 and PAtual >=80:\n",
        "     PNovo = PAtual * 0.95;\n",
        "  else:\n",
        "    PNovo = PAtual * 1.15;\n",
        "else:\n",
        "  if MMensal < 500 and PAtual < 30:\n",
        "      PNovo = PAtual * 1.10;\n",
        "  else:\n",
        "    PNovo = PAtual;\n",
        "print(PNovo);"
      ],
      "metadata": {
        "id": "XFA_RUBGNYLu",
        "colab": {
          "base_uri": "https://localhost:8080/"
        },
        "outputId": "24b97305-975d-4d2c-e106-7107247eb8a3"
      },
      "execution_count": null,
      "outputs": [
        {
          "output_type": "stream",
          "name": "stdout",
          "text": [
            "Digite o preço atual do produto 80\n",
            "Digite a media mensal 1000\n",
            "76.0\n"
          ]
        }
      ]
    },
    {
      "cell_type": "code",
      "source": [
        "print(\"Digite 1 para poupança\");\n",
        "INV = (int(input(\"Digite 2 para renda fixa \")));\n",
        "V = (float(input(\"Digite o valor do investimento \")));\n",
        "if INV != 1 and INV != 2:\n",
        "  print(\"Digite uma opção válida\");\n",
        "else:\n",
        "  if INV == 1:\n",
        "    V = V * 1.03;\n",
        "  else:\n",
        "    if INV == 2:\n",
        "      V = V * 1.05;\n",
        "print(V);\n"
      ],
      "metadata": {
        "colab": {
          "base_uri": "https://localhost:8080/"
        },
        "id": "mYa1558k7Tm9",
        "outputId": "0bdbdae4-e50e-47c8-81e7-5c0cbe7d527f"
      },
      "execution_count": null,
      "outputs": [
        {
          "output_type": "stream",
          "name": "stdout",
          "text": [
            "Digite 1 para poupança\n",
            "Digite 2 para renda fixa 2\n",
            "Digite o valor do investimento 100\n",
            "105.0\n"
          ]
        }
      ]
    },
    {
      "cell_type": "code",
      "source": [
        "DNasc = (int(input(\"Digite a dia do nascimento \")));\n",
        "MNasc = (int(input(\"Digite o mes do nascimento \")));\n",
        "ANasc = (int(input(\"Digite o ano do nascimento \")));\n",
        "from datetime import datetime\n",
        "hoje = datetime.now()\n",
        "anoAtual = hoje.year\n",
        "mesAtual = hoje.month\n",
        "diaAtual = hoje.day\n",
        "\n",
        "if(DNasc > diaAtual):\n",
        "  if(MNasc < mesAtual)\n",
        "    mestotal = mestotal + 1;\n",
        "\n",
        "\n",
        "if(ANasc > anoAtual):\n",
        "  print(\"Digite uma data válida\");\n",
        "else:\n",
        "  resusltadoEmDias = anoAtual - ANasc;\n",
        "  resusltadoEmDias = resusltadoEmDias * 365;\n",
        "  contbissexto = ANasc\n",
        "  while contbissexto < anoAtual:\n",
        "    contbissexto = contbissexto + 1;\n",
        "    if contbissexto % 4 == 0;\n",
        "      resusltadoEmDias = resusltadoEmDias + 1\n",
        "  if(MNasc > mesAtual)\n",
        "    mestotal = MNasc - mesAtual;\n",
        "  else:\n",
        "    if(MNasc < mesAtual)\n",
        "      mestotal = MNasc - mesAtual;\n",
        "  if(DNasc > diaAtual)\n",
        "    diaTotal = DNasc - diaAtual ;\n",
        "  else:\n",
        "    if(DNasc < diaAtual)\n",
        "      diaTotal = DNasc - diaAtual;\n",
        "\n",
        "resusltadoEmDias = resusltadoEmDias + mesTotal + diaTotal;\n",
        "\n",
        "resusltadoEmDias - contbissexto;\n",
        "\n",
        "resultad = resusltadoEmDias % 365;\n",
        "anoTotal = (resusltadoEmDias - resultad) / 365;\n",
        "cont = 1\n",
        "while cont <= 12:\n",
        "  if cont < 8:\n",
        "    if cont % 2 == 0:\n",
        "      if cont == 2:\n",
        "        resultad = resultad - 28;\n",
        "      else:\n",
        "        resultad = resultad - 30;\n",
        "    else:\n",
        "      resultad = resultad - 31;\n",
        "  else:\n",
        "    if cont % 2 == 0:\n",
        "      resultad = resultad - 31;\n",
        "    else:\n",
        "      resultad = resultad - 30;\n",
        "  cont = cont + 1;\n",
        "\n",
        "\n",
        "\n",
        "\n",
        "\n"
      ],
      "metadata": {
        "colab": {
          "base_uri": "https://localhost:8080/"
        },
        "id": "kq69GDd-981b",
        "outputId": "10f2633d-fdfc-449b-be95-63b9bcfe7f26"
      },
      "execution_count": null,
      "outputs": [
        {
          "output_type": "stream",
          "name": "stdout",
          "text": [
            "2025\n"
          ]
        }
      ]
    },
    {
      "cell_type": "code",
      "source": [
        "n = 10\n",
        "while n <= 150:\n",
        "  r = n ** 2\n",
        "  n = n + 1\n",
        "  print(r)"
      ],
      "metadata": {
        "id": "lgkcFO0S-nak"
      },
      "execution_count": null,
      "outputs": []
    },
    {
      "cell_type": "code",
      "source": [
        "N = (int(input(\"Digite um numero inteiro \")))\n",
        "cont = N\n",
        "while cont > 1:\n",
        "  cont = cont - 1\n",
        "  N = N * cont\n",
        "print(N)"
      ],
      "metadata": {
        "colab": {
          "base_uri": "https://localhost:8080/"
        },
        "id": "pNfq09pm8cPt",
        "outputId": "7c4ba138-dfe8-43a0-eb5d-ad3a00a8e2b4"
      },
      "execution_count": null,
      "outputs": [
        {
          "output_type": "stream",
          "name": "stdout",
          "text": [
            "Digite um numero inteiro 5\n",
            "120\n"
          ]
        }
      ]
    },
    {
      "cell_type": "code",
      "source": [
        "N = (int(input(\"Digite um numero inteiro \")))\n",
        "rst = 1\n",
        "cont = 2\n",
        "while cont <= N:\n",
        "  rst = rst + (1/cont)\n",
        "  cont = cont + 1\n",
        "print(rst)"
      ],
      "metadata": {
        "colab": {
          "base_uri": "https://localhost:8080/"
        },
        "id": "vHZPKkFU_3Fw",
        "outputId": "e535617b-1702-469b-8d78-384eb23efbc9"
      },
      "execution_count": null,
      "outputs": [
        {
          "output_type": "stream",
          "name": "stdout",
          "text": [
            "Digite um numero inteiro 1\n",
            "1\n"
          ]
        }
      ]
    },
    {
      "cell_type": "code",
      "source": [
        "n = 0\n",
        "while n < 1 or n > 10:\n",
        "  n = (int(input(\"Digite um numero inteiro (1-10) \")))\n",
        "  if n < 1 or n > 10:\n",
        "    print(\"Digite um numero entre 1 e 10\")\n",
        "  else:\n",
        "    cont = 0\n",
        "    while cont < 10:\n",
        "      cont = cont + 1\n",
        "      rst = n * cont\n",
        "      print(rst)"
      ],
      "metadata": {
        "colab": {
          "base_uri": "https://localhost:8080/"
        },
        "id": "2PSzhEH4DQpk",
        "outputId": "1a92309c-8160-47bb-c9bd-b7328e0e45fd"
      },
      "execution_count": null,
      "outputs": [
        {
          "output_type": "stream",
          "name": "stdout",
          "text": [
            "Digite um numero inteiro (1-10) 5\n",
            "5\n",
            "10\n",
            "15\n",
            "20\n",
            "25\n",
            "30\n",
            "35\n",
            "40\n",
            "45\n",
            "50\n"
          ]
        }
      ]
    },
    {
      "cell_type": "code",
      "source": [
        "rst = 0\n",
        "n = (int(input(\"Digite um numero inteiro \")))\n",
        "n2 = (int(input(\"Digite outro numero inteiro \")))\n",
        "if n < n2:\n",
        "  maior = n2\n",
        "  menor = n\n",
        "\n",
        "else:\n",
        "  maior = n\n",
        "  menor = n2\n",
        "dif = maior - menor\n",
        "if n % 2 == 0:\n",
        "  cont = 1\n",
        "  while cont < dif:\n",
        "    rst = rst + n + cont\n",
        "    cont = cont + 2\n",
        "else:\n",
        "  cont = 0\n",
        "  while cont < dif:\n",
        "    rst = rst + n + cont\n",
        "    cont = cont + 2\n",
        "print(rst)"
      ],
      "metadata": {
        "colab": {
          "base_uri": "https://localhost:8080/"
        },
        "id": "Tgkz7l2tDg7u",
        "outputId": "1f9e171e-521e-4942-88d4-92d31295e2fe"
      },
      "execution_count": null,
      "outputs": [
        {
          "output_type": "stream",
          "name": "stdout",
          "text": [
            "Digite um numero inteiro 2\n",
            "Digite outro numero inteiro 10\n",
            "24\n"
          ]
        }
      ]
    },
    {
      "cell_type": "code",
      "source": [
        "def fat(fatorial):\n",
        "  cont = fatorial\n",
        "  while cont > 1:\n",
        "    cont = cont - 1\n",
        "    fatorial = fatorial * cont\n",
        "  return(fatorial)\n",
        "\n",
        "N = (int(input(\"Digite um numero inteiro \")))\n",
        "rst = 1\n",
        "cont = 1\n",
        "while cont <= N:\n",
        "  rst = rst + (1/fat(cont))\n",
        "  cont = cont + 1\n",
        "print(rst)"
      ],
      "metadata": {
        "id": "KiIWbrl_GZ7-",
        "colab": {
          "base_uri": "https://localhost:8080/"
        },
        "outputId": "c7703789-0e93-4721-c38b-a431b2dbd38b"
      },
      "execution_count": null,
      "outputs": [
        {
          "output_type": "stream",
          "name": "stdout",
          "text": [
            "Digite um numero inteiro 4\n",
            "2.708333333333333\n"
          ]
        }
      ]
    },
    {
      "cell_type": "code",
      "source": [
        "N = (int(input(\"Digite um numero inteiro \")))\n",
        "ant = 0\n",
        "rst = 1\n",
        "while rst <= N:\n",
        "  rst += ant\n",
        "  if(rst <= N):\n",
        "    print(rst)\n",
        "  ant = rst - ant"
      ],
      "metadata": {
        "colab": {
          "base_uri": "https://localhost:8080/"
        },
        "id": "MpAsAj0pE1Y-",
        "outputId": "b6d8fbc6-c4bf-41ff-b732-80cb3fb2395d"
      },
      "execution_count": null,
      "outputs": [
        {
          "output_type": "stream",
          "name": "stdout",
          "text": [
            "Digite um numero inteiro 59\n",
            "1\n",
            "2\n",
            "3\n",
            "5\n",
            "8\n",
            "13\n",
            "21\n",
            "34\n",
            "55\n"
          ]
        }
      ]
    },
    {
      "cell_type": "code",
      "source": [
        "maior = 0\n",
        "menor = 0\n",
        "for _ in range(100):\n",
        "  N = (int(input(\"Digite um numero inteiro \")))\n",
        "  if maior == 0 or N > maior:\n",
        "    maior = N\n",
        "  if menor == 0 or N < menor:\n",
        "    menor = N\n",
        "print(\"O maior numero na sequencia foi \",maior)\n",
        "print(\"O menor numero na sequencia foi \",menor)"
      ],
      "metadata": {
        "colab": {
          "base_uri": "https://localhost:8080/"
        },
        "id": "z_KPFpUqSay4",
        "outputId": "2bad070a-b5a2-4bfc-d42a-29740a26989c"
      },
      "execution_count": null,
      "outputs": [
        {
          "output_type": "stream",
          "name": "stdout",
          "text": [
            "Digite um numero inteiro 1\n",
            "Digite um numero inteiro 2\n",
            "Digite um numero inteiro 3\n",
            "Digite um numero inteiro 4\n",
            "Digite um numero inteiro 5\n",
            "5\n",
            "1\n"
          ]
        }
      ]
    },
    {
      "cell_type": "code",
      "source": [
        "rst = 0\n",
        "i = 0\n",
        "for _ in range(64):\n",
        "  rst = 2 ** i\n",
        "  i += 1\n",
        "print(rst)\n",
        "\n"
      ],
      "metadata": {
        "colab": {
          "base_uri": "https://localhost:8080/"
        },
        "id": "8UkiJDFPTCS4",
        "outputId": "da90cc45-e23d-4986-bc56-29b92cc3f9d4"
      },
      "execution_count": null,
      "outputs": [
        {
          "output_type": "stream",
          "name": "stdout",
          "text": [
            "9223372036854775808\n"
          ]
        }
      ]
    },
    {
      "cell_type": "code",
      "source": [
        "maior = 0\n",
        "menor = 0\n",
        "dif = 0\n",
        "i = 1\n",
        "j = 1\n",
        "rst = 0\n",
        "cont = 0\n",
        "primo = 0\n",
        "N1 = (int(input(\"Digite um numero inteiro \")))\n",
        "N2 = (int(input(\"Digite um numero inteiro \")))\n",
        "if N1 < N2:\n",
        "  maior = N2\n",
        "  menor = N1\n",
        "  dif = N2 - N1\n",
        "else:\n",
        "  maior = N1\n",
        "  menor = N2\n",
        "  dif = N1 - N2\n",
        "for _ in range(dif):\n",
        "  primo = menor + i\n",
        "  while j <= primo:\n",
        "    rst = primo % j\n",
        "    if rst == 0:\n",
        "      cont += 1\n",
        "    j += 1\n",
        "  if cont == 2:\n",
        "    print(primo,\"é primo\")\n",
        "    cont = 0\n",
        "  else:\n",
        "    cont = 0\n",
        "  j = 1\n",
        "  i += 1"
      ],
      "metadata": {
        "colab": {
          "base_uri": "https://localhost:8080/"
        },
        "id": "6hdSHglDUwrk",
        "outputId": "4501fee9-a879-4ea0-d570-8dcaebb384ad"
      },
      "execution_count": null,
      "outputs": [
        {
          "output_type": "stream",
          "name": "stdout",
          "text": [
            "Digite um numero inteiro 5\n",
            "Digite um numero inteiro 15\n",
            "7 é primo\n",
            "11 é primo\n",
            "13 é primo\n"
          ]
        }
      ]
    },
    {
      "cell_type": "code",
      "source": [
        "i = 0\n",
        "j = 0\n",
        "for _ in range(6):\n",
        "  i +=1\n",
        "  j = 0\n",
        "  for _ in range(6):\n",
        "    j += 1\n",
        "    if i + j == 7:\n",
        "      print(i,\"+\",j,\"= 7\")"
      ],
      "metadata": {
        "colab": {
          "base_uri": "https://localhost:8080/"
        },
        "id": "ZDDSfOzaY8tl",
        "outputId": "5bb63264-0fe0-48e4-9f84-d5147ff54ead"
      },
      "execution_count": null,
      "outputs": [
        {
          "output_type": "stream",
          "name": "stdout",
          "text": [
            "1 + 6 = 7\n",
            "2 + 5 = 7\n",
            "3 + 4 = 7\n",
            "4 + 3 = 7\n",
            "5 + 2 = 7\n",
            "6 + 1 = 7\n"
          ]
        }
      ]
    },
    {
      "cell_type": "code",
      "source": [
        "i = 1\n",
        "j = 1\n",
        "rst = 1\n",
        "for _ in range(49):\n",
        "  i += 1\n",
        "  j += 2\n",
        "  rst += i/j\n",
        "rst = round(rst, 2)\n",
        "print(rst)"
      ],
      "metadata": {
        "colab": {
          "base_uri": "https://localhost:8080/"
        },
        "id": "QV3dx6u2aE1S",
        "outputId": "98155bb2-2f40-4e56-c8b6-d57ef41750fb"
      },
      "execution_count": null,
      "outputs": [
        {
          "output_type": "stream",
          "name": "stdout",
          "text": [
            "26.47\n"
          ]
        }
      ]
    },
    {
      "cell_type": "code",
      "source": [
        "a = 1.10\n",
        "m = 1.50\n",
        "i = 0\n",
        "while a < m:\n",
        "  a += 0.03\n",
        "  m += 0.02\n",
        "  i += 1\n",
        "print(\"Vai demorar\",i,\"anos para ela ser maior\")\n"
      ],
      "metadata": {
        "colab": {
          "base_uri": "https://localhost:8080/"
        },
        "id": "21IjhbxgbCtO",
        "outputId": "1758098b-8650-428d-a213-dbbfc263f866"
      },
      "execution_count": null,
      "outputs": [
        {
          "output_type": "stream",
          "name": "stdout",
          "text": [
            "Vai demorar 41 anos para ela ser maior\n"
          ]
        }
      ]
    },
    {
      "cell_type": "code",
      "source": [
        "b = (int(input(\"Digite o numero da base \")))\n",
        "p = (int(input(\"Digite o numero da expoente \")))\n",
        "rst = 0\n",
        "rst = b ** p\n",
        "print(rst)"
      ],
      "metadata": {
        "colab": {
          "base_uri": "https://localhost:8080/"
        },
        "id": "2VCWsFvudGPG",
        "outputId": "1a2a2308-5955-4268-ab20-a61bb576950b"
      },
      "execution_count": null,
      "outputs": [
        {
          "output_type": "stream",
          "name": "stdout",
          "text": [
            "Digite o numero da base 2\n",
            "Digite o numero da expoente 3\n",
            "8\n"
          ]
        }
      ]
    },
    {
      "cell_type": "code",
      "source": [
        "i = 1\n",
        "rst = 1\n",
        "for _ in range(14):\n",
        "  i += 1\n",
        "  if(i % 2 == 0):\n",
        "    rst -= i/(i*i)\n",
        "  else:\n",
        "    rst += i/(i*i)\n",
        "print(rst)"
      ],
      "metadata": {
        "colab": {
          "base_uri": "https://localhost:8080/"
        },
        "id": "hQjxt8TFdnMc",
        "outputId": "7375674c-141c-4bb3-8778-188d961014ef"
      },
      "execution_count": null,
      "outputs": [
        {
          "output_type": "stream",
          "name": "stdout",
          "text": [
            "0.8333333333333333\n"
          ]
        }
      ]
    }
  ]
}