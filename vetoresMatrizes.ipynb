{
  "nbformat": 4,
  "nbformat_minor": 0,
  "metadata": {
    "colab": {
      "provenance": [],
      "authorship_tag": "ABX9TyPQkbskayYJVUSJG1SfkHgC",
      "include_colab_link": true
    },
    "kernelspec": {
      "name": "python3",
      "display_name": "Python 3"
    },
    "language_info": {
      "name": "python"
    }
  },
  "cells": [
    {
      "cell_type": "markdown",
      "metadata": {
        "id": "view-in-github",
        "colab_type": "text"
      },
      "source": [
        "<a href=\"https://colab.research.google.com/github/igoroliveira24/Python/blob/main/vetoresMatrizes.ipynb\" target=\"_parent\"><img src=\"https://colab.research.google.com/assets/colab-badge.svg\" alt=\"Open In Colab\"/></a>"
      ]
    },
    {
      "cell_type": "code",
      "execution_count": null,
      "metadata": {
        "colab": {
          "base_uri": "https://localhost:8080/"
        },
        "id": "4BdfavIuMahW",
        "outputId": "a9ff9af3-a0c7-4053-8150-d1748242a054"
      },
      "outputs": [
        {
          "output_type": "stream",
          "name": "stdout",
          "text": [
            "Digite um numero inteiro 11\n",
            "Digite um numero inteiro 11\n",
            "Digite um numero inteiro 11\n",
            "A média é  11.0  e a soma dos impares é  33\n",
            "3\n"
          ]
        }
      ],
      "source": [
        "i = 0\n",
        "SumI = 0\n",
        "SumM = 0\n",
        "vetor = []\n",
        "c = 0\n",
        "while i < 50:\n",
        "  vetor.append((int(input(\"Digite um numero inteiro \"))))\n",
        "  if vetor[i] >= 10 and vetor[i] <= 200:\n",
        "    SumM += vetor[i]\n",
        "    c += 1\n",
        "  if vetor[i] % 2 != 0:\n",
        "    SumI += vetor[i]\n",
        "  i+= 1\n",
        "M = SumM / c\n",
        "print(\"A média é \" ,M,\" e a soma dos impares é \",SumI)\n"
      ]
    },
    {
      "cell_type": "code",
      "source": [
        "i = 0\n",
        "Maior = 0\n",
        "Menor = 0\n",
        "vetor = []\n",
        "SumM = 0;\n",
        "while i < 100:\n",
        "  vetor.append((int(input(\"Digite um numero inteiro \"))))\n",
        "  if i == 0:\n",
        "    Maior = vetor[i]\n",
        "    Menor = vetor[i]\n",
        "  if vetor[i] < Menor:\n",
        "    Menor = vetor[i]\n",
        "  if vetor[i] > Maior:\n",
        "    Maior = vetor[i]\n",
        "  SumM += vetor[i]\n",
        "  i+= 1\n",
        "SumM = SumM / 100\n",
        "print(\"A média é \" ,SumM,\", o maior é \",Maior, \" e o menor é \", Menor)"
      ],
      "metadata": {
        "colab": {
          "base_uri": "https://localhost:8080/"
        },
        "id": "VVbPmjkNSH2L",
        "outputId": "f906c7a9-3b91-4e75-b3d9-4cb877d96086"
      },
      "execution_count": null,
      "outputs": [
        {
          "output_type": "stream",
          "name": "stdout",
          "text": [
            "Digite um numero inteiro 1\n",
            "Digite um numero inteiro 2\n",
            "Digite um numero inteiro 3\n",
            "Digite um numero inteiro 4\n",
            "Digite um numero inteiro 5\n",
            "A média é  3.0 , o maior é  5  e o menor é  1\n"
          ]
        }
      ]
    },
    {
      "cell_type": "code",
      "source": [
        "i = 0\n",
        "vt1 = []\n",
        "vt2 = []\n",
        "vt3 = []\n",
        "j = 0\n",
        "while i < 3:\n",
        "  vt1.append((int(input(\"Digite um numero inteiro \"))))\n",
        "  i += 1\n",
        "i = 0\n",
        "while i < 3:\n",
        "  vt2.append((int(input(\"Digite um numero inteiro \"))))\n",
        "  i += 1\n",
        "i = 0\n",
        "while j < 6:\n",
        "  if j < 3:\n",
        "    vt3.append(vt1[i])\n",
        "  else:\n",
        "    if i > 2:\n",
        "      i = 0\n",
        "    vt3.append(vt2[i])\n",
        "  i += 1\n",
        "  j += 1\n",
        "print(vt3)\n"
      ],
      "metadata": {
        "colab": {
          "base_uri": "https://localhost:8080/"
        },
        "id": "VyY0SaHeT3hP",
        "outputId": "2396b89e-ec33-4074-a80a-b216bb0e56fe"
      },
      "execution_count": null,
      "outputs": [
        {
          "output_type": "stream",
          "name": "stdout",
          "text": [
            "Digite um numero inteiro 1\n",
            "Digite um numero inteiro 3\n",
            "Digite um numero inteiro 5\n",
            "Digite um numero inteiro 7\n",
            "Digite um numero inteiro 9\n",
            "Digite um numero inteiro 2\n",
            "[1, 3, 5, 7, 9, 2]\n"
          ]
        }
      ]
    },
    {
      "cell_type": "code",
      "source": [
        "i = 0\n",
        "SumM = 0\n",
        "vetor = []\n",
        "menorstring = \"\"\n",
        "maiorstring = \"\"\n",
        "while i < 5:\n",
        "  vetor.append((int(input(\"Digite um numero inteiro \"))))\n",
        "  SumM += vetor[i]\n",
        "  i+= 1\n",
        "M = SumM / 5\n",
        "print(\"A média é \" ,M)\n",
        "i = 0;\n",
        "while i < 5:\n",
        "  if vetor[i] > M:\n",
        "    maiorstring += str(vetor[i]) + \",\"\n",
        "  else:\n",
        "    if vetor[i] < M:\n",
        "      menorstring += str(vetor[i]) + \",\"\n",
        "  i += 1\n",
        "menorstring = menorstring[:-1]\n",
        "maiorstring = maiorstring[:-1]\n",
        "print(\"É maior que a média \", maiorstring)\n",
        "print(\"É menor que a média \", menorstring)\n",
        "\n"
      ],
      "metadata": {
        "colab": {
          "base_uri": "https://localhost:8080/"
        },
        "id": "rQVIVPB5X9Jr",
        "outputId": "50a52f65-b59f-415c-d4d2-d9cc6cec9326"
      },
      "execution_count": null,
      "outputs": [
        {
          "output_type": "stream",
          "name": "stdout",
          "text": [
            "Digite um numero inteiro 1\n",
            "Digite um numero inteiro 2\n",
            "Digite um numero inteiro 3\n",
            "Digite um numero inteiro 4\n",
            "Digite um numero inteiro 5\n",
            "A média é  3.0\n",
            "É maior que a média  4,5\n",
            "É menor que a média  1,2\n"
          ]
        }
      ]
    },
    {
      "cell_type": "code",
      "source": [
        "i = 0;\n",
        "vetor = []\n",
        "Soma = 0\n",
        "while i < 20:\n",
        "  vetor.append((int(input(\"Digite um numero inteiro \"))))\n",
        "  i +=1\n",
        "i = 0\n",
        "while i < 11:\n",
        "  Soma += vetor[i] - vetor[19-i]\n",
        "  i += 1\n",
        "print(Soma)"
      ],
      "metadata": {
        "colab": {
          "base_uri": "https://localhost:8080/"
        },
        "id": "4EiMnTX5bt2t",
        "outputId": "1001eaaf-1bfd-49c7-beb1-e2cb8200dcbf"
      },
      "execution_count": null,
      "outputs": [
        {
          "output_type": "stream",
          "name": "stdout",
          "text": [
            "Digite um numero inteiro 1\n",
            "Digite um numero inteiro 2\n",
            "Digite um numero inteiro 3\n",
            "Digite um numero inteiro 4\n",
            "Digite um numero inteiro 5\n",
            "Digite um numero inteiro 6\n",
            "Digite um numero inteiro 7\n",
            "Digite um numero inteiro 8\n",
            "Digite um numero inteiro 9\n",
            "Digite um numero inteiro 10\n",
            "-25\n"
          ]
        }
      ]
    },
    {
      "cell_type": "code",
      "source": [
        "i = 0\n",
        "aux = 0\n",
        "vetor = []\n",
        "resultado = \"\"\n",
        "while i < 20:\n",
        "  vetor.append((int(input(\"Digite um numero inteiro \"))))\n",
        "  i += 1\n",
        "i = 0\n",
        "while i < 19:\n",
        "  j = i + 1;\n",
        "  while j < 20:\n",
        "    if vetor[i] > vetor[j]:\n",
        "      aux = vetor[i]\n",
        "      vetor[i] = vetor[j]\n",
        "      vetor[j] = aux\n",
        "    j += 1\n",
        "  i += 1\n",
        "i = 0\n",
        "while i < 20:\n",
        "  resultado += str(vetor[i]) + \",\"\n",
        "  i += 1\n",
        "resultado = resultado[:-1]\n",
        "print(resultado)"
      ],
      "metadata": {
        "colab": {
          "base_uri": "https://localhost:8080/"
        },
        "id": "pM1-dQpOgDX0",
        "outputId": "d54db1be-d829-42db-b416-1812d84396f9"
      },
      "execution_count": null,
      "outputs": [
        {
          "output_type": "stream",
          "name": "stdout",
          "text": [
            "Digite um numero inteiro 9\n",
            "Digite um numero inteiro 5\n",
            "Digite um numero inteiro 7\n",
            "Digite um numero inteiro 1\n",
            "Digite um numero inteiro 3\n",
            "Digite um numero inteiro 6\n",
            "Digite um numero inteiro 4\n",
            "Digite um numero inteiro 8\n",
            "Digite um numero inteiro 2\n",
            "Digite um numero inteiro 45\n",
            "Digite um numero inteiro 65\n",
            "Digite um numero inteiro 32\n",
            "Digite um numero inteiro 59\n",
            "Digite um numero inteiro 78\n",
            "Digite um numero inteiro 45\n",
            "Digite um numero inteiro 12\n",
            "Digite um numero inteiro 26\n",
            "Digite um numero inteiro 35\n",
            "Digite um numero inteiro 95\n",
            "Digite um numero inteiro 86\n",
            "1,2,3,4,5,6,7,8,9,12,26,32,35,45,45,59,65,78,86,95\n"
          ]
        }
      ]
    },
    {
      "cell_type": "code",
      "source": [
        "i = 0\n",
        "aux = 0\n",
        "vetor = []\n",
        "resultado = \"\"\n",
        "j = 0\n",
        "c = 0\n",
        "while i < 20:\n",
        "  vetor.append((int(input(\"Digite um numero inteiro \"))))\n",
        "  i += 1\n",
        "i = 0\n",
        "while i < 19:\n",
        "  j = i + 1;\n",
        "  while j < 20:\n",
        "    if vetor[i] > vetor[j]:\n",
        "      aux = vetor[i]\n",
        "      vetor[i] = vetor[j]\n",
        "      vetor[j] = aux\n",
        "    j += 1\n",
        "  i += 1\n",
        "i = 0\n",
        "j = 0\n",
        "n = (int(input(\"Digite um numero inteiro que deseja procurar \")))\n",
        "p = len(vetor)\n",
        "q = p/2\n",
        "q = round(q)\n",
        "if vetor[q-1] != n:\n",
        "  while j == 0:\n",
        "\n",
        "    if n > vetor[q-1]:\n",
        "      if q >= 10:\n",
        "        q = q + (p - q)/2\n",
        "      else:\n",
        "        q = q + q/2\n",
        "      q = round(q)\n",
        "      if q > len(vetor):\n",
        "        print(\"O numero não está no vetor\")\n",
        "        break\n",
        "    if n < vetor[q-1]:\n",
        "      q = q - (p - q)/2\n",
        "      q = round(q)\n",
        "      if q < 0:\n",
        "        print(\"O numero não está no vetor\")\n",
        "        break\n",
        "    if vetor[q-1] == n:\n",
        "      print(\"O numero está na posição \",q)\n",
        "      break\n",
        "    if c > 5:\n",
        "      print(\"O numero não está no vetor\")\n",
        "      break\n",
        "    c += 1\n",
        "else:\n",
        "  print(\"O numero está na posição \",q)\n"
      ],
      "metadata": {
        "colab": {
          "base_uri": "https://localhost:8080/"
        },
        "id": "yQM4DCYTjI3W",
        "outputId": "790bb8e0-c330-4a69-e8c0-08530dd90436"
      },
      "execution_count": null,
      "outputs": [
        {
          "output_type": "stream",
          "name": "stdout",
          "text": [
            "Digite um numero inteiro 15\n",
            "Digite um numero inteiro 456\n",
            "Digite um numero inteiro 23\n",
            "Digite um numero inteiro 28\n",
            "Digite um numero inteiro 65\n",
            "Digite um numero inteiro 48\n",
            "Digite um numero inteiro 95\n",
            "Digite um numero inteiro 76\n",
            "Digite um numero inteiro 34\n",
            "Digite um numero inteiro 26\n",
            "Digite um numero inteiro 94\n",
            "Digite um numero inteiro 76\n",
            "Digite um numero inteiro 12\n",
            "Digite um numero inteiro 35\n",
            "Digite um numero inteiro 48\n",
            "Digite um numero inteiro 95\n",
            "Digite um numero inteiro 36\n",
            "Digite um numero inteiro 26\n",
            "Digite um numero inteiro 12\n",
            "Digite um numero inteiro 47\n",
            "Digite um numero inteiro que deseja procurar 48\n",
            "O numero está na posição  12\n"
          ]
        }
      ]
    },
    {
      "cell_type": "code",
      "source": [],
      "metadata": {
        "colab": {
          "base_uri": "https://localhost:8080/",
          "height": 106
        },
        "id": "AaJYLf_67U1V",
        "outputId": "6bf8a1b9-45a4-4179-d989-f3e1931b67a3"
      },
      "execution_count": null,
      "outputs": [
        {
          "output_type": "error",
          "ename": "SyntaxError",
          "evalue": "invalid syntax (<ipython-input-8-8361040921e2>, line 2)",
          "traceback": [
            "\u001b[0;36m  File \u001b[0;32m\"<ipython-input-8-8361040921e2>\"\u001b[0;36m, line \u001b[0;32m2\u001b[0m\n\u001b[0;31m    Out[2]:\u001b[0m\n\u001b[0m            ^\u001b[0m\n\u001b[0;31mSyntaxError\u001b[0m\u001b[0;31m:\u001b[0m invalid syntax\n"
          ]
        }
      ]
    },
    {
      "cell_type": "code",
      "source": [
        "j = 0\n",
        "i = 0\n",
        "cont = 1\n",
        "vetor = []\n",
        "vetor = vetor + []\n",
        "soma = 0\n",
        "for _ in range(4):\n",
        "  vetor = vetor + [[0]*3]\n",
        "for _ in range(4):\n",
        "  for _ in range(3):\n",
        "    vetor[j][i] = int(input(\"Digite um numero inteiro \"))\n",
        "    soma += vetor[j][i]\n",
        "    i += 1\n",
        "  i = 0\n",
        "  j += 1\n",
        "j = 0\n",
        "i = 0\n",
        "for _ in range(4):\n",
        "  for _ in range(3):\n",
        "    print(\"O produto\",cont,\"foi vendido\",vetor[j][i],\"vezes no mês\")\n",
        "    i += 1\n",
        "    cont +=1\n",
        "  i = 0\n",
        "  j += 1\n",
        "j = 0\n",
        "i = 0\n",
        "cont = 0\n",
        "for _ in range(4):\n",
        "  for _ in range(3):\n",
        "    print(\"O produto\",cont,\"foi vendido\",vetor[j][i]/4,\"vezes por semana\")\n",
        "    i += 1\n",
        "    cont +=1\n",
        "  i = 0\n",
        "  j += 1\n",
        "print(\"A soma de todos os produtos é\",soma)"
      ],
      "metadata": {
        "colab": {
          "base_uri": "https://localhost:8080/"
        },
        "id": "9nbcyqZS54lK",
        "outputId": "2f7e0983-bf32-4f62-9d40-4d587a4a9648"
      },
      "execution_count": null,
      "outputs": [
        {
          "output_type": "stream",
          "name": "stdout",
          "text": [
            "Digite um numero inteiro 432\n",
            "Digite um numero inteiro 54\n",
            "Digite um numero inteiro 23\n",
            "Digite um numero inteiro 75\n",
            "Digite um numero inteiro 45\n",
            "Digite um numero inteiro 76\n",
            "Digite um numero inteiro 6\n",
            "Digite um numero inteiro 54\n",
            "Digite um numero inteiro 23\n",
            "Digite um numero inteiro 44\n",
            "Digite um numero inteiro 7\n",
            "Digite um numero inteiro 65\n",
            "O produto 1 foi vendido 432 vezes no mês\n",
            "O produto 2 foi vendido 54 vezes no mês\n",
            "O produto 3 foi vendido 23 vezes no mês\n",
            "O produto 4 foi vendido 75 vezes no mês\n",
            "O produto 5 foi vendido 45 vezes no mês\n",
            "O produto 6 foi vendido 76 vezes no mês\n",
            "O produto 7 foi vendido 6 vezes no mês\n",
            "O produto 8 foi vendido 54 vezes no mês\n",
            "O produto 9 foi vendido 23 vezes no mês\n",
            "O produto 10 foi vendido 44 vezes no mês\n",
            "O produto 11 foi vendido 7 vezes no mês\n",
            "O produto 12 foi vendido 65 vezes no mês\n",
            "O produto 0 foi vendido 108.0 vezes por semana\n",
            "O produto 1 foi vendido 13.5 vezes por semana\n",
            "O produto 2 foi vendido 5.75 vezes por semana\n",
            "O produto 3 foi vendido 18.75 vezes por semana\n",
            "O produto 4 foi vendido 11.25 vezes por semana\n",
            "O produto 5 foi vendido 19.0 vezes por semana\n",
            "O produto 6 foi vendido 1.5 vezes por semana\n",
            "O produto 7 foi vendido 13.5 vezes por semana\n",
            "O produto 8 foi vendido 5.75 vezes por semana\n",
            "O produto 9 foi vendido 11.0 vezes por semana\n",
            "O produto 10 foi vendido 1.75 vezes por semana\n",
            "O produto 11 foi vendido 16.25 vezes por semana\n",
            "A soma de todos os produtos é 904\n",
            "[[432, 54, 23], [75, 45, 76], [6, 54, 23], [44, 7, 65]]\n"
          ]
        }
      ]
    },
    {
      "cell_type": "code",
      "source": [
        "vetor = []\n",
        "i = 0\n",
        "k = 0\n",
        "for _ in range(4):\n",
        "  vetor = vetor + [[0]*4]\n",
        "while i < 4:\n",
        "  j = i\n",
        "  while j == i:\n",
        "    vetor[i][j] = 2**k\n",
        "    j += 1\n",
        "    k += 2\n",
        "  i += 1\n",
        "print(vetor)"
      ],
      "metadata": {
        "colab": {
          "base_uri": "https://localhost:8080/"
        },
        "id": "4Yui7ES98rAe",
        "outputId": "eec94bdf-4e1d-4dc6-bc51-3bc1c3d1cdd5"
      },
      "execution_count": null,
      "outputs": [
        {
          "output_type": "stream",
          "name": "stdout",
          "text": [
            "[[1, 0, 0, 0], [0, 4, 0, 0], [0, 0, 16, 0], [0, 0, 0, 64]]\n"
          ]
        }
      ]
    },
    {
      "cell_type": "code",
      "source": [
        "i = 0\n",
        "j = 0\n",
        "soma = 0\n",
        "matriz = [[0 for _ in range(8)] for _ in range(8)]\n",
        "for _ in range(8):\n",
        "  for _ in range(8):\n",
        "    matriz[i][j] = 2**j\n",
        "    soma += matriz[i][j]\n",
        "    j += 1\n",
        "  j = 0\n",
        "  i+=1\n",
        "\n",
        "print(soma)"
      ],
      "metadata": {
        "colab": {
          "base_uri": "https://localhost:8080/"
        },
        "id": "9KwbC6wkCDwx",
        "outputId": "162c2fce-5a79-47d5-c9d3-93823707a3c1"
      },
      "execution_count": null,
      "outputs": [
        {
          "output_type": "stream",
          "name": "stdout",
          "text": [
            "2040\n"
          ]
        }
      ]
    },
    {
      "cell_type": "code",
      "source": [
        "i = 0\n",
        "j = 0\n",
        "z = 1\n",
        "y = 0\n",
        "matriz = [[0 for _ in range(8)] for _ in range(8)]\n",
        "for _ in range(4):\n",
        "  y = 9 - z\n",
        "  print(y)\n",
        "  i = z - 1\n",
        "  for _ in range(y - i):\n",
        "    j = z - 1\n",
        "    for _ in range(y - j):\n",
        "      matriz[i][j] = z\n",
        "      j += 1\n",
        "    i+=1\n",
        "  z += 1\n",
        "print(matriz)"
      ],
      "metadata": {
        "colab": {
          "base_uri": "https://localhost:8080/"
        },
        "id": "JiYmGWzcHfsz",
        "outputId": "a741eadb-d7a2-4756-e3a5-7f30b5d5e612"
      },
      "execution_count": null,
      "outputs": [
        {
          "output_type": "stream",
          "name": "stdout",
          "text": [
            "8\n",
            "7\n",
            "6\n",
            "5\n",
            "[[1, 1, 1, 1, 1, 1, 1, 1], [1, 2, 2, 2, 2, 2, 2, 1], [1, 2, 3, 3, 3, 3, 2, 1], [1, 2, 3, 4, 4, 3, 2, 1], [1, 2, 3, 4, 4, 3, 2, 1], [1, 2, 3, 3, 3, 3, 2, 1], [1, 2, 2, 2, 2, 2, 2, 1], [1, 1, 1, 1, 1, 1, 1, 1]]\n"
          ]
        }
      ]
    },
    {
      "cell_type": "code",
      "source": [
        "i = 0\n",
        "j = 0\n",
        "z = 1\n",
        "y = 0\n",
        "tt = 0\n",
        "matriz = [[0 for _ in range(8)] for _ in range(8)]\n",
        "vetor = [0 for _ in range(7)]\n",
        "for _ in range(8):\n",
        "  for _ in range(8):\n",
        "    while tt == 0:\n",
        "      matriz[j][i] = int(input(\"Digite um numero de 1 a 7 \"))\n",
        "      if matriz[j][i] < 1 or matriz[j][i] > 7:\n",
        "        print(\"Digite corretamente \")\n",
        "      else:\n",
        "        vetor[matriz[j][i] - 1] += 1\n",
        "        tt = 1\n",
        "    tt = 0\n",
        "    i += 1\n",
        "  i = 0\n",
        "  j += 1\n",
        "print(vetor)\n"
      ],
      "metadata": {
        "colab": {
          "base_uri": "https://localhost:8080/"
        },
        "id": "1E_GlSw3Mmho",
        "outputId": "8d8cde8a-a50d-48e9-f571-2bd0fe90d46e"
      },
      "execution_count": null,
      "outputs": [
        {
          "output_type": "stream",
          "name": "stdout",
          "text": [
            "Digite um numero de 1 a 7 7\n",
            "Digite um numero de 1 a 7 6\n",
            "Digite um numero de 1 a 7 7\n",
            "Digite um numero de 1 a 7 5\n",
            "Digite um numero de 1 a 7 3\n",
            "Digite um numero de 1 a 7 5\n",
            "Digite um numero de 1 a 7 1\n",
            "Digite um numero de 1 a 7 3\n",
            "Digite um numero de 1 a 7 5\n",
            "Digite um numero de 1 a 7 6\n",
            "Digite um numero de 1 a 7 3\n",
            "Digite um numero de 1 a 7 4\n",
            "Digite um numero de 1 a 7 7\n",
            "Digite um numero de 1 a 7 5\n",
            "Digite um numero de 1 a 7 7\n",
            "Digite um numero de 1 a 7 3\n",
            "Digite um numero de 1 a 7 2\n",
            "Digite um numero de 1 a 7 4\n",
            "Digite um numero de 1 a 7 3\n",
            "Digite um numero de 1 a 7 6\n",
            "Digite um numero de 1 a 7 5\n",
            "Digite um numero de 1 a 7 4\n",
            "Digite um numero de 1 a 7 7\n",
            "Digite um numero de 1 a 7 7\n",
            "Digite um numero de 1 a 7 7\n",
            "Digite um numero de 1 a 7 6\n",
            "Digite um numero de 1 a 7 6\n",
            "Digite um numero de 1 a 7 6\n",
            "Digite um numero de 1 a 7 4\n",
            "Digite um numero de 1 a 7 3\n",
            "Digite um numero de 1 a 7 2\n",
            "Digite um numero de 1 a 7 1\n",
            "Digite um numero de 1 a 7 5\n",
            "Digite um numero de 1 a 7 5\n",
            "Digite um numero de 1 a 7 5\n",
            "Digite um numero de 1 a 7 6\n",
            "Digite um numero de 1 a 7 7\n",
            "Digite um numero de 1 a 7 7\n",
            "Digite um numero de 1 a 7 7\n",
            "Digite um numero de 1 a 7 6\n",
            "Digite um numero de 1 a 7 5\n",
            "Digite um numero de 1 a 7 4\n",
            "Digite um numero de 1 a 7 3\n",
            "Digite um numero de 1 a 7 2\n",
            "Digite um numero de 1 a 7 3\n",
            "Digite um numero de 1 a 7 4\n",
            "Digite um numero de 1 a 7 5\n",
            "Digite um numero de 1 a 7 6\n",
            "Digite um numero de 1 a 7 7\n",
            "Digite um numero de 1 a 7 7\n",
            "Digite um numero de 1 a 7 6\n",
            "Digite um numero de 1 a 7 5\n",
            "Digite um numero de 1 a 7 4\n",
            "Digite um numero de 1 a 7 3\n",
            "Digite um numero de 1 a 7 2\n",
            "Digite um numero de 1 a 7 3\n",
            "Digite um numero de 1 a 7 3\n",
            "Digite um numero de 1 a 7 3\n",
            "Digite um numero de 1 a 7 3\n",
            "Digite um numero de 1 a 7 3\n",
            "Digite um numero de 1 a 7 3\n",
            "Digite um numero de 1 a 7 3\n",
            "Digite um numero de 1 a 7 3\n",
            "Digite um numero de 1 a 7 3\n",
            "[30, 60, 270, 105, 165, 150, 180]\n"
          ]
        }
      ]
    }
  ]
}